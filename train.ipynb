{
 "cells": [
  {
   "cell_type": "code",
   "execution_count": 2,
   "metadata": {},
   "outputs": [],
   "source": [
    "import os\n",
    "try:\n",
    "    os.chdir(\"DeepSpeech\")\n",
    "except:\n",
    "    print(\"Run only once\")"
   ]
  },
  {
   "cell_type": "code",
   "execution_count": 20,
   "metadata": {
    "scrolled": true
   },
   "outputs": [
    {
     "name": "stdout",
     "output_type": "stream",
     "text": [
      "./model_result\n",
      "I Could not find best validating checkpoint.\n",
      "I Loading most recent checkpoint from ./checkpoint/train-683\n",
      "I Loading variable from checkpoint: beta1_power\n",
      "I Loading variable from checkpoint: beta2_power\n",
      "I Loading variable from checkpoint: cudnn_lstm/rnn/multi_rnn_cell/cell_0/cudnn_compatible_lstm_cell/bias\n",
      "I Loading variable from checkpoint: cudnn_lstm/rnn/multi_rnn_cell/cell_0/cudnn_compatible_lstm_cell/bias/Adam\n",
      "I Loading variable from checkpoint: cudnn_lstm/rnn/multi_rnn_cell/cell_0/cudnn_compatible_lstm_cell/bias/Adam_1\n",
      "I Loading variable from checkpoint: cudnn_lstm/rnn/multi_rnn_cell/cell_0/cudnn_compatible_lstm_cell/kernel\n",
      "^C\n",
      "Traceback (most recent call last):\n",
      "  File \"DeepSpeech.py\", line 12, in <module>\n",
      "    ds_train.run_script()\n",
      "  File \"/mlsteam/lab/DeepSpeech/training/deepspeech_training/train.py\", line 983, in run_script\n",
      "    absl.app.run(main)\n",
      "  File \"/usr/local/lib/python3.6/dist-packages/absl/app.py\", line 303, in run\n",
      "    _run_main(main, args)\n",
      "  File \"/usr/local/lib/python3.6/dist-packages/absl/app.py\", line 251, in _run_main\n",
      "    sys.exit(main(argv))\n",
      "  File \"/mlsteam/lab/DeepSpeech/training/deepspeech_training/train.py\", line 955, in main\n",
      "    train()\n",
      "  File \"/mlsteam/lab/DeepSpeech/training/deepspeech_training/train.py\", line 529, in train\n",
      "    load_or_init_graph_for_training(session)\n",
      "  File \"/mlsteam/lab/DeepSpeech/training/deepspeech_training/util/checkpoints.py\", line 137, in load_or_init_graph_for_training\n",
      "    _load_or_init_impl(session, methods, allow_drop_layers=True)\n",
      "  File \"/mlsteam/lab/DeepSpeech/training/deepspeech_training/util/checkpoints.py\", line 106, in _load_or_init_impl\n",
      "    return _load_checkpoint(session, ckpt_path, allow_drop_layers, allow_lr_init=allow_lr_init)\n",
      "  File \"/mlsteam/lab/DeepSpeech/training/deepspeech_training/util/checkpoints.py\", line 71, in _load_checkpoint\n",
      "    v.load(ckpt.get_tensor(v.op.name), session=session)\n",
      "  File \"/usr/local/lib/python3.6/dist-packages/tensorflow_core/python/pywrap_tensorflow_internal.py\", line 915, in get_tensor\n",
      "    return CheckpointReader_GetTensor(self, compat.as_bytes(tensor_str))\n",
      "KeyboardInterrupt\n"
     ]
    }
   ],
   "source": [
    "!python DeepSpeech.py --train_files ../../data/zh-TW/clips/train.csv --dev_files ../../data/zh-TW/clips/dev.csv --test_files ../../data/zh-TW/clips/test.csv -epochs 5 --save_checkpoint_dir ./checkpoint -export_dir ./model_result --load_checkpoint_dir ./checkpoint"
   ]
  },
  {
   "cell_type": "code",
   "execution_count": 11,
   "metadata": {
    "scrolled": true
   },
   "outputs": [
    {
     "name": "stdout",
     "output_type": "stream",
     "text": [
      "BIBLIOGRAPHY.md\n",
      "CODE_OF_CONDUCT.md\n",
      "CODE_OWNERS.rst\n",
      "CONTRIBUTING.rst\n",
      "DeepSpeech.py\n",
      "Dockerfile.build.tmpl\n",
      "Dockerfile.train.tmpl\n",
      "GRAPH_VERSION\n",
      "ISSUE_TEMPLATE.md\n",
      "LICENSE\n",
      "Makefile\n",
      "README.rst\n",
      "RELEASE.rst\n",
      "SUPPORT.rst\n",
      "VERSION\n",
      "bazel.patch\n",
      "bin\n",
      "build-python-wheel.yml-DISABLED_ENABLE_ME_TO_REBUILD_DURING_PR\n",
      "checkpoint\n",
      "checkpoints\n",
      "data\n",
      "doc\n",
      "ds_generic.supp\n",
      "ds_lib.supp\n",
      "ds_openfst.supp\n",
      "ds_sox.supp\n",
      "evaluate.py\n",
      "evaluate_tflite.py\n",
      "examples\n",
      "images\n",
      "kenlm\n",
      "lm_optimizer.py\n",
      "native_client\n",
      "parse_valgrind_suppressions.sh\n",
      "requirements_eval_tflite.txt\n",
      "requirements_tests.txt\n",
      "requirements_transcribe.txt\n",
      "setup.py\n",
      "stats.py\n",
      "taskcluster\n",
      "tensorflow\n",
      "tensorflow_full_runtime.supp\n",
      "tensorflow_tflite_runtime.supp\n",
      "tests\n",
      "training\n",
      "transcribe.py\n",
      "util\n"
     ]
    }
   ],
   "source": [
    "!ls"
   ]
  },
  {
   "cell_type": "code",
   "execution_count": 21,
   "metadata": {},
   "outputs": [
    {
     "name": "stdout",
     "output_type": "stream",
     "text": [
      "Requirement already satisfied: ds-ctcdecoder in /usr/local/lib/python3.6/dist-packages (0.9.3)\n",
      "Requirement already satisfied: numpy in /usr/local/lib/python3.6/dist-packages (from ds-ctcdecoder) (1.19.2)\n",
      "\u001b[33mWARNING: You are using pip version 20.2.4; however, version 21.1.1 is available.\n",
      "You should consider upgrading via the '/usr/bin/python3 -m pip install --upgrade pip' command.\u001b[0m\n"
     ]
    }
   ],
   "source": [
    "!pip install ds-ctcdecoder"
   ]
  },
  {
   "cell_type": "code",
   "execution_count": 23,
   "metadata": {},
   "outputs": [
    {
     "name": "stdout",
     "output_type": "stream",
     "text": [
      "__init__.py  _swigwrapper.cpython-36m-x86_64-linux-gnu.so\n",
      "__pycache__  swigwrapper.py\n"
     ]
    }
   ],
   "source": [
    "!ls /usr/local/lib/python3.6/dist-packages/ds_ctcdecoder"
   ]
  },
  {
   "cell_type": "code",
   "execution_count": null,
   "metadata": {},
   "outputs": [],
   "source": []
  }
 ],
 "metadata": {
  "kernelspec": {
   "display_name": "Python 3",
   "language": "python",
   "name": "python3"
  },
  "language_info": {
   "codemirror_mode": {
    "name": "ipython",
    "version": 3
   },
   "file_extension": ".py",
   "mimetype": "text/x-python",
   "name": "python",
   "nbconvert_exporter": "python",
   "pygments_lexer": "ipython3",
   "version": "3.6.9"
  }
 },
 "nbformat": 4,
 "nbformat_minor": 4
}
