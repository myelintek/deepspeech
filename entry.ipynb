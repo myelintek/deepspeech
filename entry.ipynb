{
 "cells": [
  {
   "cell_type": "code",
   "execution_count": 1,
   "metadata": {},
   "outputs": [
    {
     "name": "stdout",
     "output_type": "stream",
     "text": [
      "fatal: destination path 'DeepSpeech' already exists and is not an empty directory.\n"
     ]
    }
   ],
   "source": [
    "!git clone --branch v0.9.3 https://github.com/mozilla/DeepSpeech"
   ]
  },
  {
   "cell_type": "code",
   "execution_count": 2,
   "metadata": {},
   "outputs": [],
   "source": [
    "import os\n",
    "try:\n",
    "    os.chdir(\"DeepSpeech\")\n",
    "except:\n",
    "    print(\"Run only once\")"
   ]
  },
  {
   "cell_type": "code",
   "execution_count": 3,
   "metadata": {
    "scrolled": true
   },
   "outputs": [
    {
     "name": "stdout",
     "output_type": "stream",
     "text": [
      "Obtaining file:///mlsteam/lab/DeepSpeech\n",
      "Requirement already satisfied, skipping upgrade: numpy in /usr/local/lib/python3.6/dist-packages (from deepspeech-training==0.9.3) (1.19.2)\n",
      "Requirement already satisfied, skipping upgrade: progressbar2 in /usr/local/lib/python3.6/dist-packages (from deepspeech-training==0.9.3) (3.53.1)\n",
      "Requirement already satisfied, skipping upgrade: six in /usr/local/lib/python3.6/dist-packages (from deepspeech-training==0.9.3) (1.15.0)\n",
      "Requirement already satisfied, skipping upgrade: pyxdg in /usr/lib/python3/dist-packages (from deepspeech-training==0.9.3) (0.25)\n",
      "Requirement already satisfied, skipping upgrade: attrdict in /usr/local/lib/python3.6/dist-packages (from deepspeech-training==0.9.3) (2.0.1)\n",
      "Requirement already satisfied, skipping upgrade: absl-py in /usr/local/lib/python3.6/dist-packages (from deepspeech-training==0.9.3) (0.11.0)\n",
      "Requirement already satisfied, skipping upgrade: semver in /usr/local/lib/python3.6/dist-packages (from deepspeech-training==0.9.3) (2.13.0)\n",
      "Requirement already satisfied, skipping upgrade: opuslib==2.0.0 in /usr/local/lib/python3.6/dist-packages (from deepspeech-training==0.9.3) (2.0.0)\n",
      "Requirement already satisfied, skipping upgrade: optuna in /usr/local/lib/python3.6/dist-packages (from deepspeech-training==0.9.3) (2.7.0)\n",
      "Requirement already satisfied, skipping upgrade: sox in /usr/local/lib/python3.6/dist-packages (from deepspeech-training==0.9.3) (1.4.1)\n",
      "Requirement already satisfied, skipping upgrade: bs4 in /usr/local/lib/python3.6/dist-packages (from deepspeech-training==0.9.3) (0.0.1)\n",
      "Requirement already satisfied, skipping upgrade: pandas in /usr/local/lib/python3.6/dist-packages (from deepspeech-training==0.9.3) (1.1.5)\n",
      "Requirement already satisfied, skipping upgrade: requests in /usr/local/lib/python3.6/dist-packages (from deepspeech-training==0.9.3) (2.25.1)\n",
      "Requirement already satisfied, skipping upgrade: numba==0.47.0 in /usr/local/lib/python3.6/dist-packages (from deepspeech-training==0.9.3) (0.47.0)\n",
      "Requirement already satisfied, skipping upgrade: llvmlite==0.31.0 in /usr/local/lib/python3.6/dist-packages (from deepspeech-training==0.9.3) (0.31.0)\n",
      "Requirement already satisfied, skipping upgrade: librosa in /usr/local/lib/python3.6/dist-packages (from deepspeech-training==0.9.3) (0.8.0)\n",
      "Requirement already satisfied, skipping upgrade: soundfile in /usr/local/lib/python3.6/dist-packages (from deepspeech-training==0.9.3) (0.10.3.post1)\n",
      "Requirement already satisfied, skipping upgrade: ds_ctcdecoder==0.9.3 in /usr/local/lib/python3.6/dist-packages (from deepspeech-training==0.9.3) (0.9.3)\n",
      "Requirement already satisfied, skipping upgrade: tensorflow==1.15.4 in /usr/local/lib/python3.6/dist-packages (from deepspeech-training==0.9.3) (1.15.4)\n",
      "Requirement already satisfied, skipping upgrade: python-utils>=2.3.0 in /usr/local/lib/python3.6/dist-packages (from progressbar2->deepspeech-training==0.9.3) (2.5.6)\n",
      "Requirement already satisfied, skipping upgrade: cliff in /usr/local/lib/python3.6/dist-packages (from optuna->deepspeech-training==0.9.3) (3.7.0)\n",
      "Requirement already satisfied, skipping upgrade: scipy!=1.4.0 in /usr/local/lib/python3.6/dist-packages (from optuna->deepspeech-training==0.9.3) (1.5.4)\n",
      "Requirement already satisfied, skipping upgrade: colorlog in /usr/local/lib/python3.6/dist-packages (from optuna->deepspeech-training==0.9.3) (5.0.1)\n",
      "Requirement already satisfied, skipping upgrade: packaging>=20.0 in /usr/local/lib/python3.6/dist-packages (from optuna->deepspeech-training==0.9.3) (20.8)\n",
      "Requirement already satisfied, skipping upgrade: tqdm in /usr/local/lib/python3.6/dist-packages (from optuna->deepspeech-training==0.9.3) (4.60.0)\n",
      "Requirement already satisfied, skipping upgrade: cmaes>=0.8.2 in /usr/local/lib/python3.6/dist-packages (from optuna->deepspeech-training==0.9.3) (0.8.2)\n",
      "Requirement already satisfied, skipping upgrade: alembic in /usr/local/lib/python3.6/dist-packages (from optuna->deepspeech-training==0.9.3) (1.5.8)\n",
      "Requirement already satisfied, skipping upgrade: sqlalchemy>=1.1.0 in /usr/local/lib/python3.6/dist-packages (from optuna->deepspeech-training==0.9.3) (1.4.11)\n",
      "Requirement already satisfied, skipping upgrade: beautifulsoup4 in /usr/local/lib/python3.6/dist-packages (from bs4->deepspeech-training==0.9.3) (4.9.3)\n",
      "Requirement already satisfied, skipping upgrade: python-dateutil>=2.7.3 in /usr/local/lib/python3.6/dist-packages (from pandas->deepspeech-training==0.9.3) (2.8.1)\n",
      "Requirement already satisfied, skipping upgrade: pytz>=2017.2 in /usr/local/lib/python3.6/dist-packages (from pandas->deepspeech-training==0.9.3) (2020.5)\n",
      "Requirement already satisfied, skipping upgrade: chardet<5,>=3.0.2 in /usr/local/lib/python3.6/dist-packages (from requests->deepspeech-training==0.9.3) (4.0.0)\n",
      "Requirement already satisfied, skipping upgrade: urllib3<1.27,>=1.21.1 in /usr/local/lib/python3.6/dist-packages (from requests->deepspeech-training==0.9.3) (1.26.2)\n",
      "Requirement already satisfied, skipping upgrade: idna<3,>=2.5 in /usr/local/lib/python3.6/dist-packages (from requests->deepspeech-training==0.9.3) (2.8)\n",
      "Requirement already satisfied, skipping upgrade: certifi>=2017.4.17 in /usr/local/lib/python3.6/dist-packages (from requests->deepspeech-training==0.9.3) (2020.12.5)\n",
      "Requirement already satisfied, skipping upgrade: setuptools in /usr/local/lib/python3.6/dist-packages (from numba==0.47.0->deepspeech-training==0.9.3) (51.3.3)\n",
      "Requirement already satisfied, skipping upgrade: audioread>=2.0.0 in /usr/local/lib/python3.6/dist-packages (from librosa->deepspeech-training==0.9.3) (2.1.9)\n",
      "Requirement already satisfied, skipping upgrade: joblib>=0.14 in /usr/local/lib/python3.6/dist-packages (from librosa->deepspeech-training==0.9.3) (1.0.0)\n",
      "Requirement already satisfied, skipping upgrade: decorator>=3.0.0 in /usr/local/lib/python3.6/dist-packages (from librosa->deepspeech-training==0.9.3) (4.4.2)\n",
      "Requirement already satisfied, skipping upgrade: resampy>=0.2.2 in /usr/local/lib/python3.6/dist-packages (from librosa->deepspeech-training==0.9.3) (0.2.2)\n",
      "Requirement already satisfied, skipping upgrade: scikit-learn!=0.19.0,>=0.14.0 in /usr/local/lib/python3.6/dist-packages (from librosa->deepspeech-training==0.9.3) (0.24.1)\n",
      "Requirement already satisfied, skipping upgrade: pooch>=1.0 in /usr/local/lib/python3.6/dist-packages (from librosa->deepspeech-training==0.9.3) (1.3.0)\n",
      "Requirement already satisfied, skipping upgrade: cffi>=1.0 in /usr/local/lib/python3.6/dist-packages (from soundfile->deepspeech-training==0.9.3) (1.14.4)\n",
      "Requirement already satisfied, skipping upgrade: tensorboard<1.16.0,>=1.15.0 in /usr/local/lib/python3.6/dist-packages (from tensorflow==1.15.4->deepspeech-training==0.9.3) (1.15.0)\n",
      "Requirement already satisfied, skipping upgrade: protobuf>=3.6.1 in /usr/local/lib/python3.6/dist-packages (from tensorflow==1.15.4->deepspeech-training==0.9.3) (3.14.0)\n",
      "Requirement already satisfied, skipping upgrade: google-pasta>=0.1.6 in /usr/local/lib/python3.6/dist-packages (from tensorflow==1.15.4->deepspeech-training==0.9.3) (0.2.0)\n",
      "Requirement already satisfied, skipping upgrade: astor>=0.6.0 in /usr/local/lib/python3.6/dist-packages (from tensorflow==1.15.4->deepspeech-training==0.9.3) (0.8.1)\n",
      "Requirement already satisfied, skipping upgrade: opt-einsum>=2.3.2 in /usr/local/lib/python3.6/dist-packages (from tensorflow==1.15.4->deepspeech-training==0.9.3) (3.3.0)\n",
      "Requirement already satisfied, skipping upgrade: wrapt>=1.11.1 in /usr/local/lib/python3.6/dist-packages (from tensorflow==1.15.4->deepspeech-training==0.9.3) (1.12.1)\n",
      "Requirement already satisfied, skipping upgrade: keras-applications>=1.0.8 in /usr/local/lib/python3.6/dist-packages (from tensorflow==1.15.4->deepspeech-training==0.9.3) (1.0.8)\n",
      "Requirement already satisfied, skipping upgrade: grpcio>=1.8.6 in /usr/local/lib/python3.6/dist-packages (from tensorflow==1.15.4->deepspeech-training==0.9.3) (1.32.0)\n",
      "Requirement already satisfied, skipping upgrade: wheel>=0.26; python_version >= \"3\" in /usr/local/lib/python3.6/dist-packages (from tensorflow==1.15.4->deepspeech-training==0.9.3) (0.36.2)\n",
      "Requirement already satisfied, skipping upgrade: tensorflow-estimator==1.15.1 in /usr/local/lib/python3.6/dist-packages (from tensorflow==1.15.4->deepspeech-training==0.9.3) (1.15.1)\n",
      "Requirement already satisfied, skipping upgrade: keras-preprocessing>=1.0.5 in /usr/local/lib/python3.6/dist-packages (from tensorflow==1.15.4->deepspeech-training==0.9.3) (1.1.2)\n",
      "Requirement already satisfied, skipping upgrade: gast==0.2.2 in /usr/local/lib/python3.6/dist-packages (from tensorflow==1.15.4->deepspeech-training==0.9.3) (0.2.2)\n",
      "Requirement already satisfied, skipping upgrade: termcolor>=1.1.0 in /usr/local/lib/python3.6/dist-packages (from tensorflow==1.15.4->deepspeech-training==0.9.3) (1.1.0)\n",
      "Requirement already satisfied, skipping upgrade: pbr!=2.1.0,>=2.0.0 in /usr/local/lib/python3.6/dist-packages (from cliff->optuna->deepspeech-training==0.9.3) (5.6.0)\n",
      "Requirement already satisfied, skipping upgrade: PyYAML>=3.12 in /usr/local/lib/python3.6/dist-packages (from cliff->optuna->deepspeech-training==0.9.3) (5.4.1)\n",
      "Requirement already satisfied, skipping upgrade: pyparsing>=2.1.0 in /usr/local/lib/python3.6/dist-packages (from cliff->optuna->deepspeech-training==0.9.3) (2.4.7)\n",
      "Requirement already satisfied, skipping upgrade: stevedore>=2.0.1 in /usr/local/lib/python3.6/dist-packages (from cliff->optuna->deepspeech-training==0.9.3) (3.3.0)\n",
      "Requirement already satisfied, skipping upgrade: PrettyTable>=0.7.2 in /usr/local/lib/python3.6/dist-packages (from cliff->optuna->deepspeech-training==0.9.3) (2.1.0)\n",
      "Requirement already satisfied, skipping upgrade: cmd2>=1.0.0 in /usr/local/lib/python3.6/dist-packages (from cliff->optuna->deepspeech-training==0.9.3) (1.5.0)\n",
      "Requirement already satisfied, skipping upgrade: Mako in /usr/local/lib/python3.6/dist-packages (from alembic->optuna->deepspeech-training==0.9.3) (1.1.4)\n",
      "Requirement already satisfied, skipping upgrade: python-editor>=0.3 in /usr/local/lib/python3.6/dist-packages (from alembic->optuna->deepspeech-training==0.9.3) (1.0.4)\n",
      "Requirement already satisfied, skipping upgrade: greenlet!=0.4.17; python_version >= \"3\" in /usr/local/lib/python3.6/dist-packages (from sqlalchemy>=1.1.0->optuna->deepspeech-training==0.9.3) (1.0.0)\n",
      "Requirement already satisfied, skipping upgrade: importlib-metadata; python_version < \"3.8\" in /usr/local/lib/python3.6/dist-packages (from sqlalchemy>=1.1.0->optuna->deepspeech-training==0.9.3) (3.4.0)\n",
      "Requirement already satisfied, skipping upgrade: soupsieve>1.2; python_version >= \"3.0\" in /usr/local/lib/python3.6/dist-packages (from beautifulsoup4->bs4->deepspeech-training==0.9.3) (2.2.1)\n",
      "Requirement already satisfied, skipping upgrade: threadpoolctl>=2.0.0 in /usr/local/lib/python3.6/dist-packages (from scikit-learn!=0.19.0,>=0.14.0->librosa->deepspeech-training==0.9.3) (2.1.0)\n",
      "Requirement already satisfied, skipping upgrade: appdirs in /usr/local/lib/python3.6/dist-packages (from pooch>=1.0->librosa->deepspeech-training==0.9.3) (1.4.4)\n",
      "Requirement already satisfied, skipping upgrade: pycparser in /usr/local/lib/python3.6/dist-packages (from cffi>=1.0->soundfile->deepspeech-training==0.9.3) (2.20)\n",
      "Requirement already satisfied, skipping upgrade: markdown>=2.6.8 in /usr/local/lib/python3.6/dist-packages (from tensorboard<1.16.0,>=1.15.0->tensorflow==1.15.4->deepspeech-training==0.9.3) (3.3.3)\n",
      "Requirement already satisfied, skipping upgrade: werkzeug>=0.11.15 in /usr/local/lib/python3.6/dist-packages (from tensorboard<1.16.0,>=1.15.0->tensorflow==1.15.4->deepspeech-training==0.9.3) (1.0.1)\n",
      "Requirement already satisfied, skipping upgrade: h5py in /usr/local/lib/python3.6/dist-packages (from keras-applications>=1.0.8->tensorflow==1.15.4->deepspeech-training==0.9.3) (2.10.0)\n",
      "Requirement already satisfied, skipping upgrade: wcwidth in /usr/local/lib/python3.6/dist-packages (from PrettyTable>=0.7.2->cliff->optuna->deepspeech-training==0.9.3) (0.2.5)\n",
      "Requirement already satisfied, skipping upgrade: colorama>=0.3.7 in /usr/local/lib/python3.6/dist-packages (from cmd2>=1.0.0->cliff->optuna->deepspeech-training==0.9.3) (0.4.4)\n",
      "Requirement already satisfied, skipping upgrade: attrs>=16.3.0 in /usr/local/lib/python3.6/dist-packages (from cmd2>=1.0.0->cliff->optuna->deepspeech-training==0.9.3) (20.3.0)\n",
      "Requirement already satisfied, skipping upgrade: pyperclip>=1.6 in /usr/local/lib/python3.6/dist-packages (from cmd2>=1.0.0->cliff->optuna->deepspeech-training==0.9.3) (1.8.2)\n",
      "Requirement already satisfied, skipping upgrade: MarkupSafe>=0.9.2 in /usr/local/lib/python3.6/dist-packages (from Mako->alembic->optuna->deepspeech-training==0.9.3) (1.1.1)\n",
      "Requirement already satisfied, skipping upgrade: zipp>=0.5 in /usr/local/lib/python3.6/dist-packages (from importlib-metadata; python_version < \"3.8\"->sqlalchemy>=1.1.0->optuna->deepspeech-training==0.9.3) (3.4.0)\n",
      "Requirement already satisfied, skipping upgrade: typing-extensions>=3.6.4; python_version < \"3.8\" in /usr/local/lib/python3.6/dist-packages (from importlib-metadata; python_version < \"3.8\"->sqlalchemy>=1.1.0->optuna->deepspeech-training==0.9.3) (3.7.4.3)\n",
      "Installing collected packages: deepspeech-training\n",
      "  Attempting uninstall: deepspeech-training\n",
      "    Found existing installation: deepspeech-training 0.9.3\n",
      "    Can't uninstall 'deepspeech-training'. No files were found to uninstall.\n",
      "  Running setup.py develop for deepspeech-training\n",
      "Successfully installed deepspeech-training\n",
      "\u001b[33mWARNING: You are using pip version 20.2.4; however, version 21.1.1 is available.\n",
      "You should consider upgrading via the '/usr/bin/python3 -m pip install --upgrade pip' command.\u001b[0m\n"
     ]
    }
   ],
   "source": [
    "!pip install --upgrade -e ."
   ]
  },
  {
   "cell_type": "code",
   "execution_count": 4,
   "metadata": {},
   "outputs": [
    {
     "name": "stdout",
     "output_type": "stream",
     "text": [
      "Collecting deepspeech\n",
      "  Downloading deepspeech-0.9.3-cp36-cp36m-manylinux1_x86_64.whl (9.2 MB)\n",
      "\u001b[K     |################################| 9.2 MB 8.9 MB/s eta 0:00:01\n",
      "\u001b[?25hRequirement already satisfied: numpy in /usr/local/lib/python3.6/dist-packages (from deepspeech) (1.19.2)\n",
      "Installing collected packages: deepspeech\n",
      "Successfully installed deepspeech-0.9.3\n",
      "\u001b[33mWARNING: You are using pip version 20.2.4; however, version 21.1.1 is available.\n",
      "You should consider upgrading via the '/usr/bin/python3 -m pip install --upgrade pip' command.\u001b[0m\n"
     ]
    }
   ],
   "source": [
    "!pip install deepspeech"
   ]
  },
  {
   "cell_type": "code",
   "execution_count": 5,
   "metadata": {},
   "outputs": [
    {
     "name": "stdout",
     "output_type": "stream",
     "text": [
      "Reading package lists... Done\n",
      "Building dependency tree       \n",
      "Reading state information... Done\n",
      "libsox-fmt-mp3 is already the newest version (14.4.2-3ubuntu0.18.04.1).\n",
      "sox is already the newest version (14.4.2-3ubuntu0.18.04.1).\n",
      "0 upgraded, 0 newly installed, 0 to remove and 19 not upgraded.\n"
     ]
    }
   ],
   "source": [
    "!apt-get install sox libsox-fmt-mp3"
   ]
  },
  {
   "cell_type": "code",
   "execution_count": 11,
   "metadata": {},
   "outputs": [],
   "source": [
    "os.chdir(\"../\")"
   ]
  },
  {
   "cell_type": "code",
   "execution_count": 12,
   "metadata": {},
   "outputs": [
    {
     "name": "stdout",
     "output_type": "stream",
     "text": [
      "DeepSpeech  entry.ipynb  machine-learning-tutorials  train.ipynb\n",
      "demo.ipynb  kenlm\t mlsteam.yml\n"
     ]
    }
   ],
   "source": [
    "!ls"
   ]
  },
  {
   "cell_type": "code",
   "execution_count": 13,
   "metadata": {},
   "outputs": [
    {
     "name": "stdout",
     "output_type": "stream",
     "text": [
      "  % Total    % Received % Xferd  Average Speed   Time    Time     Time  Current\n",
      "                                 Dload  Upload   Total   Spent    Left  Speed\n",
      "100   634  100   634    0     0   1304      0 --:--:-- --:--:-- --:--:--  1304\n",
      "100  180M  100  180M    0     0  1614k      0  0:01:54  0:01:54 --:--:--  600k\n",
      "  % Total    % Received % Xferd  Average Speed   Time    Time     Time  Current\n",
      "                                 Dload  Upload   Total   Spent    Left  Speed\n",
      "100   636    0   636    0     0   1432      0 --:--:-- --:--:-- --:--:--  1429   0    0     0      0      0 --:--:-- --:--:-- --:--:--     0\n",
      "100  909M  100  909M    0     0  3815k      0  0:04:04  0:04:04 --:--:-- 4165k15  137M    0     0  2808k      0  0:05:31  0:00:50  0:04:41 1654k 81  744M    0     0  3715k      0  0:04:10  0:03:25  0:00:45 4402k  0  3787k      0  0:04:05  0:03:50  0:00:15 4358k\n"
     ]
    }
   ],
   "source": [
    "!curl -LO https://github.com/mozilla/DeepSpeech/releases/download/v0.9.3/deepspeech-0.9.3-models.pbmm\n",
    "!curl -LO https://github.com/mozilla/DeepSpeech/releases/download/v0.9.3/deepspeech-0.9.3-models.scorer"
   ]
  },
  {
   "cell_type": "code",
   "execution_count": 14,
   "metadata": {},
   "outputs": [
    {
     "name": "stdout",
     "output_type": "stream",
     "text": [
      "  % Total    % Received % Xferd  Average Speed   Time    Time     Time  Current\n",
      "                                 Dload  Upload   Total   Spent    Left  Speed\n",
      "100   624    0   624    0     0    935      0 --:--:-- --:--:-- --:--:--   935\n",
      "100  194k  100  194k    0     0   181k      0  0:00:01  0:00:01 --:--:-- 1007k\n",
      "._audio\n",
      "audio/\n",
      "audio/._2830-3980-0043.wav\n",
      "audio/2830-3980-0043.wav\n",
      "audio/._Attribution.txt\n",
      "audio/Attribution.txt\n",
      "audio/._4507-16021-0012.wav\n",
      "audio/4507-16021-0012.wav\n",
      "audio/._8455-210777-0068.wav\n",
      "audio/8455-210777-0068.wav\n",
      "audio/._License.txt\n",
      "audio/License.txt\n"
     ]
    }
   ],
   "source": [
    "!curl -LO https://github.com/mozilla/DeepSpeech/releases/download/v0.9.3/audio-0.9.3.tar.gz\n",
    "!tar xvf audio-0.9.3.tar.gz"
   ]
  },
  {
   "cell_type": "code",
   "execution_count": null,
   "metadata": {},
   "outputs": [],
   "source": []
  }
 ],
 "metadata": {
  "kernelspec": {
   "display_name": "Python 3",
   "language": "python",
   "name": "python3"
  },
  "language_info": {
   "codemirror_mode": {
    "name": "ipython",
    "version": 3
   },
   "file_extension": ".py",
   "mimetype": "text/x-python",
   "name": "python",
   "nbconvert_exporter": "python",
   "pygments_lexer": "ipython3",
   "version": "3.6.9"
  }
 },
 "nbformat": 4,
 "nbformat_minor": 4
}
